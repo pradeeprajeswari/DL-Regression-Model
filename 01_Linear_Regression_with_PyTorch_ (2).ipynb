{
  "cells": [
    {
      "cell_type": "markdown",
      "id": "5dfccf2f-8050-4409-98d3-6b09f74fdbf7",
      "metadata": {
        "id": "5dfccf2f-8050-4409-98d3-6b09f74fdbf7"
      },
      "source": [
        "📌 Step 1: Import Required Libraries"
      ]
    },
    {
      "cell_type": "markdown",
      "source": [
        "Pradeep E\n",
        "21222323013419\n",
        "AI&DS"
      ],
      "metadata": {
        "id": "hIIUZN7J1sel"
      },
      "id": "hIIUZN7J1sel"
    },
    {
      "cell_type": "code",
      "execution_count": 4,
      "id": "a679357c-a2b2-4817-b33f-348c62d5a10b",
      "metadata": {
        "id": "a679357c-a2b2-4817-b33f-348c62d5a10b"
      },
      "outputs": [],
      "source": [
        "import torch\n",
        "import torch.nn as nn  # Neural network module\n",
        "import numpy as np\n",
        "import matplotlib.pyplot as plt  # For plotting\n",
        "%matplotlib inline"
      ]
    },
    {
      "cell_type": "markdown",
      "id": "9b661989-7238-4424-87b7-425c525bdba1",
      "metadata": {
        "id": "9b661989-7238-4424-87b7-425c525bdba1"
      },
      "source": [
        "📌 Step 2: Generate Random Data"
      ]
    },
    {
      "cell_type": "code",
      "execution_count": 5,
      "id": "7495be24-eacb-4080-b213-83b1564d18df",
      "metadata": {
        "id": "7495be24-eacb-4080-b213-83b1564d18df"
      },
      "outputs": [],
      "source": [
        "X = torch.linspace(1,70,70).reshape(-1,1)\n",
        "\n",
        "#torch.manual_seed(42)  # Ensures the same random numbers every time\n",
        "#X = torch.rand(100, 1) * 100  # 100 random values (0 to 100)\n",
        "#y = X * 2 + 1 + torch.randn(100, 1) * 10  # True function: y = 2x + noise"
      ]
    },
    {
      "cell_type": "code",
      "execution_count": 6,
      "id": "d45978c3-c234-4ecf-947c-1e92b21ec392",
      "metadata": {
        "id": "d45978c3-c234-4ecf-947c-1e92b21ec392"
      },
      "outputs": [],
      "source": [
        "torch.manual_seed(71) # to obtain reproducible results\n",
        "e = torch.randint(-8,9,(70,1),dtype=torch.float)\n",
        "#print(e.sum())"
      ]
    },
    {
      "cell_type": "code",
      "execution_count": 7,
      "id": "4fa8e459-425c-4d93-95cc-381b9151c75b",
      "metadata": {
        "colab": {
          "base_uri": "https://localhost:8080/"
        },
        "id": "4fa8e459-425c-4d93-95cc-381b9151c75b",
        "outputId": "e6ec8e66-5c5f-40c4-fcec-c7c641cfd7a4"
      },
      "outputs": [
        {
          "output_type": "stream",
          "name": "stdout",
          "text": [
            "torch.Size([70, 1])\n"
          ]
        }
      ],
      "source": [
        "y = 2*X + 1 + e\n",
        "print(y.shape)"
      ]
    },
    {
      "cell_type": "markdown",
      "id": "102a61a9-8059-4d41-9149-f70321c1415a",
      "metadata": {
        "id": "102a61a9-8059-4d41-9149-f70321c1415a"
      },
      "source": [
        "📌 Step 3: Visualizing the Data"
      ]
    },
    {
      "cell_type": "code",
      "execution_count": 8,
      "id": "0144fa22-c11f-4b5a-93f0-8f2a0022a645",
      "metadata": {
        "colab": {
          "base_uri": "https://localhost:8080/",
          "height": 472
        },
        "id": "0144fa22-c11f-4b5a-93f0-8f2a0022a645",
        "outputId": "16e032eb-7249-434d-abf5-b2e6140fbc1d"
      },
      "outputs": [
        {
          "output_type": "display_data",
          "data": {
            "text/plain": [
              "<Figure size 640x480 with 1 Axes>"
            ],
            "image/png": "[encoded data removed]"
          },
          "metadata": {}
        }
      ],
      "source": [
        "plt.scatter(X.numpy(), y.numpy(),color='red')  # Scatter plot of data points\n",
        "plt.xlabel('x')\n",
        "plt.ylabel('y')\n",
        "plt.title('Generated Data for Linear Regression')\n",
        "plt.show()"
      ]
    },
    {
      "cell_type": "markdown",
      "id": "687e4376-60c0-436f-a03f-2106dddc2611",
      "metadata": {
        "id": "687e4376-60c0-436f-a03f-2106dddc2611"
      },
      "source": [
        "📌 Step 4: Define a Linear Regression Model"
      ]
    },
    {
      "cell_type": "code",
      "execution_count": 9,
      "id": "44c0f458-2fc9-4b3f-a3bf-ae3e94c40a1f",
      "metadata": {
        "id": "44c0f458-2fc9-4b3f-a3bf-ae3e94c40a1f",
        "outputId": "e545ab7f-efdc-4e60-b35d-209fec104951",
        "colab": {
          "base_uri": "https://localhost:8080/"
        }
      },
      "outputs": [
        {
          "output_type": "stream",
          "name": "stdout",
          "text": [
            "Weight: 0.10597813129425049\n",
            "Bias:   0.9637961387634277\n"
          ]
        }
      ],
      "source": [
        "# Setting a manual seed for reproducibility\n",
        "torch.manual_seed(59)\n",
        "\n",
        "# Defining the model class\n",
        "model = nn.Linear(1, 1)  # Linear regression model with 1 input and 1 output\n",
        "\n",
        "# Accessing weight and bias directly\n",
        "print('Weight:', model.weight.item())\n",
        "print('Bias:  ', model.bias.item())"
      ]
    },
    {
      "cell_type": "markdown",
      "id": "e1ce3e8b-d471-4019-a8f5-ce1fca8b26e1",
      "metadata": {
        "id": "e1ce3e8b-d471-4019-a8f5-ce1fca8b26e1"
      },
      "source": [
        "📌 Step 6: Define the Loss Function and Optimizer"
      ]
    },
    {
      "cell_type": "code",
      "execution_count": 10,
      "id": "edcff1c9-2313-4257-ac88-29d47e3142a7",
      "metadata": {
        "id": "edcff1c9-2313-4257-ac88-29d47e3142a7"
      },
      "outputs": [],
      "source": [
        "loss_function = nn.MSELoss()  # Mean Squared Error (MSE) loss\n",
        "\n",
        "optimizer = torch.optim.SGD(model.parameters(), lr=0.001)  # Stochastic Gradient Descent\n"
      ]
    },
    {
      "cell_type": "markdown",
      "id": "2e915f82-8fb9-4171-b157-e0d778a1ae0a",
      "metadata": {
        "id": "2e915f82-8fb9-4171-b157-e0d778a1ae0a"
      },
      "source": [
        "📌 Step 7: Training the Model"
      ]
    },
    {
      "cell_type": "code",
      "execution_count": 11,
      "id": "69ae64a8-cd00-419f-ab15-25d869a696d5",
      "metadata": {
        "colab": {
          "base_uri": "https://localhost:8080/"
        },
        "id": "69ae64a8-cd00-419f-ab15-25d869a696d5",
        "outputId": "8f665525-6cae-4e97-b926-ee2849e5e1df"
      },
      "outputs": [
        {
          "output_type": "stream",
          "name": "stdout",
          "text": [
            "epoch:  1  loss: 5954.00195312  weight: 6.39712811  bias: 1.09820127\n",
            "epoch:  2  loss: 32454.26367188  weight: -8.31483269  bias: 0.78566593\n",
            "epoch:  3  loss: 177374.46875000  weight: 26.08920860  bias: 1.51830482\n",
            "epoch:  4  loss: 969889.81250000  weight: -54.36505127  bias: -0.19320856\n",
            "epoch:  5  loss: 5303866.00000000  weight: 133.77809143  bias: 3.81095338\n",
            "epoch:  6  loss: 29004798.00000000  weight: -306.19680786  bias: -5.55105686\n",
            "epoch:  7  loss: 158616544.00000000  weight: 722.68945312  bias: 16.34387779\n",
            "epoch:  8  loss: 867415936.00000000  weight: -1683.37268066  bias: -34.85591125\n",
            "epoch:  9  loss: 4743580672.00000000  weight: 3943.23120117  bias: 84.87713623\n",
            "epoch: 10  loss: 25940918272.00000000  weight: -9214.64257812  bias: -195.11819458\n",
            "epoch: 11  loss: 141861322752.00000000  weight: 21555.19140625  bias: 459.65557861\n",
            "epoch: 12  loss: 775787905024.00000000  weight: -50400.40234375  bias: -1071.53833008\n",
            "epoch: 13  loss: 4242498125824.00000000  weight: 117868.54687500  bias: 2509.17700195\n",
            "epoch: 14  loss: 23200675135488.00000000  weight: -275630.28125000  bias: -5864.36425781\n",
            "epoch: 15  loss: 126876018278400.00000000  weight: 644571.00000000  bias: 13717.25683594\n",
            "epoch: 16  loss: 693838276460544.00000000  weight: -1507329.75000000  bias: -32074.57812500\n",
            "epoch: 17  loss: 3794347250155520.00000000  weight: 3524913.75000000  bias: 75010.14062500\n",
            "epoch: 18  loss: 20749895392559104.00000000  weight: -8243042.50000000  bias: -175408.62500000\n",
            "epoch: 19  loss: 113473585716133888.00000000  weight: 19276454.00000000  bias: 410198.37500000\n",
            "epoch: 20  loss: 620545602299625472.00000000  weight: -45078188.00000000  bias: -959250.12500000\n",
            "epoch: 21  loss: 3393534886991101952.00000000  weight: 105415840.00000000  bias: 2243220.00000000\n",
            "epoch: 22  loss: 18557999257277693952.00000000  weight: -246516064.00000000  bias: -5245791.00000000\n",
            "epoch: 23  loss: 101486867180282707968.00000000  weight: 576480448.00000000  bias: 12267342.00000000\n",
            "epoch: 24  loss: 554994415048306196480.00000000  weight: -1348105728.00000000  bias: -28687310.00000000\n",
            "epoch: 25  loss: 3035060231377990451200.00000000  weight: 3152560384.00000000  bias: 67085580.00000000\n",
            "epoch: 26  loss: 16597638124305263886336.00000000  weight: -7372297216.00000000  bias: -156880400.00000000\n",
            "epoch: 27  loss: 90766393566754922037248.00000000  weight: 17240199168.00000000  bias: 366866528.00000000\n",
            "epoch: 28  loss: 496368232127108321640448.00000000  weight: -40316399616.00000000  bias: -857921408.00000000\n",
            "epoch: 29  loss: 2714456548960058078134272.00000000  weight: 94280335360.00000000  bias: 2006258816.00000000\n",
            "epoch: 30  loss: 14844368198510668008128512.00000000  weight: -220475621376.00000000  bias: -4691657728.00000000\n",
            "epoch: 31  loss: 81178411401104923555790848.00000000  weight: 515584622592.00000000  bias: 10971495424.00000000\n",
            "epoch: 32  loss: 443934915659316378898268160.00000000  weight: -1205700263936.00000000  bias: -25656961024.00000000\n",
            "epoch: 33  loss: 2427717400681735986645827584.00000000  weight: 2819543793664.00000000  bias: 59999076352.00000000\n",
            "epoch: 34  loss: 13276300569479302985847668736.00000000  weight: -6593534492672.00000000  bias: -140308561920.00000000\n",
            "epoch: 35  loss: 72603239578043203976863678464.00000000  weight: 15419056324608.00000000  bias: 328113029120.00000000\n",
            "epoch: 36  loss: 397040668949365464602479951872.00000000  weight: -36057642958848.00000000  bias: -767296143360.00000000\n",
            "epoch: 37  loss: 2171271119927103636020997914624.00000000  weight: 84321188708352.00000000  bias: 1794331246592.00000000\n",
            "epoch: 38  loss: 11873884434604486715700330627072.00000000  weight: -197186008645632.00000000  bias: -4196062199808.00000000\n",
            "epoch: 39  loss: 64933925172909809860668800630784.00000000  weight: 461121681096704.00000000  bias: 9812537507840.00000000\n",
            "epoch: 40  loss: 355099889362034435399725764050944.00000000  weight: -1078337908768768.00000000  bias: -22946728902656.00000000\n",
            "epoch: 41  loss: 1941910426360512656819016177811456.00000000  weight: 2521705490677760.00000000  bias: 53661162012672.00000000\n",
            "epoch: 42  loss: 10619598064427395421546467905503232.00000000  weight: -5897035731435520.00000000  bias: -125487242280960.00000000\n",
            "epoch: 43  loss: 58074693733130059334487778877505536.00000000  weight: 13790284215222272.00000000  bias: 293453271400448.00000000\n",
            "epoch: 44  loss: 317589278371969796383309065065857024.00000000  weight: -32248731877244928.00000000  bias: -686243834757120.00000000\n",
            "epoch: 45  loss: 1736779723690516996357774572951437312.00000000  weight: 75414016490471424.00000000  bias: 1604788760346624.00000000\n",
            "epoch: 46  loss:        inf  weight: -176356476774776832.00000000  bias: -3752815990145024.00000000\n",
            "epoch: 47  loss:        inf  weight: 412411521495203840.00000000  bias: 8775999554584576.00000000\n",
            "epoch: 48  loss:        inf  weight: -964428996441800704.00000000  bias: -20522771079495680.00000000\n",
            "epoch: 49  loss:        inf  weight: 2255327734181920768.00000000  bias: 47992737659617280.00000000\n",
            "epoch: 50  loss:        inf  weight: -5274110438081036288.00000000  bias: -112231532713738240.00000000\n"
          ]
        }
      ],
      "source": [
        "epochs = 50  # Number of training iterations\n",
        "losses = []  # List to store loss values\n",
        "\n",
        "for epoch in range(1, epochs + 1):  # Start from 1 to 50\n",
        "    optimizer.zero_grad()  # Clear previous gradients\n",
        "    y_pred = model(X)  # Forward pass\n",
        "    loss = loss_function(y_pred, y)  # Compute loss\n",
        "    losses.append(loss.item())  # Store loss value\n",
        "\n",
        "    loss.backward()  # Compute gradients\n",
        "    optimizer.step()  # Update weights\n",
        "\n",
        "    # Print loss, weight, and bias for EVERY epoch (1 to 50)\n",
        "    print(f'epoch: {epoch:2}  loss: {loss.item():10.8f}  '\n",
        "          f'weight: {model.weight.item():10.8f}  '\n",
        "          f'bias: {model.bias.item():10.8f}')\n"
      ]
    },
    {
      "cell_type": "markdown",
      "id": "558d6872-6ff9-47fc-b31d-c18ee26f4578",
      "metadata": {
        "id": "558d6872-6ff9-47fc-b31d-c18ee26f4578"
      },
      "source": [
        "Plot the loss values"
      ]
    },
    {
      "cell_type": "markdown",
      "source": [
        "Pradeep E\n",
        "212223230149\n",
        "AI&DS"
      ],
      "metadata": {
        "id": "U5qsQ3on17Vr"
      },
      "id": "U5qsQ3on17Vr"
    },
    {
      "cell_type": "code",
      "execution_count": 12,
      "id": "29b57990-81b5-464d-ae70-a41dac38face",
      "metadata": {
        "id": "29b57990-81b5-464d-ae70-a41dac38face",
        "outputId": "d19bb4b4-68a6-472b-ca44-f383cc9b27a9",
        "colab": {
          "base_uri": "https://localhost:8080/",
          "height": 465
        }
      },
      "outputs": [
        {
          "output_type": "display_data",
          "data": {
            "text/plain": [
              "<Figure size 640x480 with 1 Axes>"
            ],
            "image/png": "[encoded data removed]"
          },
          "metadata": {}
        }
      ],
      "source": [
        "plt.plot(range(epochs), losses)\n",
        "plt.ylabel('Loss')\n",
        "plt.xlabel('epoch');\n",
        "plt.show()"
      ]
    },
    {
      "cell_type": "markdown",
      "id": "9161005e-1609-4fe6-882c-381e02d6dd59",
      "metadata": {
        "id": "9161005e-1609-4fe6-882c-381e02d6dd59"
      },
      "source": [
        "📌 Step 8: Extract the Learned Weight and Bias"
      ]
    },
    {
      "cell_type": "code",
      "execution_count": 13,
      "id": "41bc6992-5d28-4518-98d5-83c30bdf2a11",
      "metadata": {
        "id": "41bc6992-5d28-4518-98d5-83c30bdf2a11"
      },
      "outputs": [],
      "source": [
        "# Automatically determine x-range\n",
        "x1 = torch.tensor([X.min().item(), X.max().item()])\n",
        "\n",
        "# Extract model parameters\n",
        "w1, b1 = model.weight.item(), model.bias.item()\n",
        "\n",
        "# Compute y1 (predicted values)\n",
        "y1 = x1 * w1 + b1\n"
      ]
    },
    {
      "cell_type": "code",
      "execution_count": 14,
      "id": "d16f1c0e-403f-4371-93be-49d93097b6a2",
      "metadata": {
        "id": "d16f1c0e-403f-4371-93be-49d93097b6a2",
        "outputId": "572993a8-8a50-4e5b-fd81-d3a9812be338",
        "colab": {
          "base_uri": "https://localhost:8080/"
        }
      },
      "outputs": [
        {
          "output_type": "stream",
          "name": "stdout",
          "text": [
            "Final Weight: -5274110438081036288.00000000, Final Bias: -112231532713738240.00000000\n",
            "X range: [ 1. 70.]\n",
            "Predicted Y values: [-5.3863420e+18 -3.6929995e+20]\n"
          ]
        }
      ],
      "source": [
        "# Print weight, bias, and x/y values\n",
        "print(f'Final Weight: {w1:.8f}, Final Bias: {b1:.8f}')\n",
        "print(f'X range: {x1.numpy()}')\n",
        "print(f'Predicted Y values: {y1.numpy()}')"
      ]
    },
    {
      "cell_type": "markdown",
      "id": "3798f67b-3cd3-4eed-80c4-62a4c84d0767",
      "metadata": {
        "id": "3798f67b-3cd3-4eed-80c4-62a4c84d0767"
      },
      "source": [
        "📌 Step 9: Plot the Best-Fit Line"
      ]
    },
    {
      "cell_type": "code",
      "execution_count": 15,
      "id": "493d04e8-d859-49f5-8733-01b309cb045a",
      "metadata": {
        "id": "493d04e8-d859-49f5-8733-01b309cb045a",
        "outputId": "91d550fa-6ec1-427b-a5f9-bf412f6ba4f1",
        "colab": {
          "base_uri": "https://localhost:8080/",
          "height": 472
        }
      },
      "outputs": [
        {
          "output_type": "display_data",
          "data": {
            "text/plain": [
              "<Figure size 640x480 with 1 Axes>"
            ],
            "image/png": "[encoded data removed]"
          },
          "metadata": {}
        }
      ],
      "source": [
        "# Plot original data and best-fit line\n",
        "plt.scatter(X.numpy(), y.numpy(), label=\"Original Data\")\n",
        "plt.plot(x1.numpy(), y1.numpy(), 'r', label=\"Best-Fit Line\")\n",
        "plt.xlabel('x')\n",
        "plt.ylabel('y')\n",
        "plt.title('Trained Model: Best-Fit Line')\n",
        "plt.legend()\n",
        "plt.show()"
      ]
    },
    {
      "cell_type": "code",
      "source": [
        "torch.save(model.state_dict(), 'linear_regression.pt')\n",
        "print(\"Model saved successfully!\")"
      ],
      "metadata": {
        "colab": {
          "base_uri": "https://localhost:8080/"
        },
        "id": "a5rJoxxxtgl5",
        "outputId": "21336ebf-6919-4cf8-886f-eeb3804ae9a9"
      },
      "id": "a5rJoxxxtgl5",
      "execution_count": 17,
      "outputs": [
        {
          "output_type": "stream",
          "name": "stdout",
          "text": [
            "Model saved successfully!\n"
          ]
        }
      ]
    },
    {
      "cell_type": "markdown",
      "source": [],
      "metadata": {
        "id": "vUygk4vQ1_rj"
      },
      "id": "vUygk4vQ1_rj"
    },
    {
      "cell_type": "markdown",
      "source": [
        "Pradeep E\n",
        "212223230149\n",
        "AI&DS\n"
      ],
      "metadata": {
        "id": "SNHFZ06B2A6i"
      },
      "id": "SNHFZ06B2A6i"
    }
  ],
  "metadata": {
    "colab": {
      "provenance": []
    },
    "kernelspec": {
      "display_name": "Python 3 (ipykernel)",
      "language": "python",
      "name": "python3"
    },
    "language_info": {
      "codemirror_mode": {
        "name": "ipython",
        "version": 3
      },
      "file_extension": ".py",
      "mimetype": "text/x-python",
      "name": "python",
      "nbconvert_exporter": "python",
      "pygments_lexer": "ipython3",
      "version": "3.12.9"
    }
  },
  "nbformat": 4,
  "nbformat_minor": 5
}